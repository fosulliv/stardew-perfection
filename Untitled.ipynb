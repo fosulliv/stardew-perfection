{
 "cells": [
  {
   "cell_type": "code",
   "execution_count": 1,
   "metadata": {},
   "outputs": [],
   "source": [
    "import requests\n",
    "import json\n",
    "import pandas as pd\n",
    "import numpy as np\n",
    "import bs4\n",
    "import glob\n",
    "import os\n",
    "import time\n",
    "import re"
   ]
  },
  {
   "cell_type": "code",
   "execution_count": 10,
   "metadata": {},
   "outputs": [],
   "source": [
    "import fish"
   ]
  },
  {
   "cell_type": "code",
   "execution_count": 60,
   "metadata": {},
   "outputs": [],
   "source": [
    "response = requests.get('https://stardewvalleywiki.com/Crafting')\n",
    "crafting = bs4.BeautifulSoup(response.content)\n",
    "url = 'https://stardewvalleywiki.com{}'"
   ]
  },
  {
   "cell_type": "code",
   "execution_count": 144,
   "metadata": {},
   "outputs": [
    {
     "data": {
      "text/plain": [
       "{'Wood': 25, 'Gold Bar': 1, 'Coal': 10}"
      ]
     },
     "execution_count": 144,
     "metadata": {},
     "output_type": "execute_result"
    }
   ],
   "source": [
    "tables = crafting.find_all('table', attrs={'class': 'craftingrecipetable'})\n",
    "first_table = tables[0].find_all('td')\n",
    "\n",
    "ingredients = page.find_all('td', attrs={'id': 'infoboxdetail'})\n",
    "ex_dict = {}\n",
    "for i in ingredients[4].find_all('span'):\n",
    "    lst = i.text.strip().split('\\xa0')\n",
    "    lst[1] = int(lst[1].strip('()'))\n",
    "    ex_dict[lst[0]] = lst[1]\n",
    "ex_dict"
   ]
  },
  {
   "cell_type": "code",
   "execution_count": 210,
   "metadata": {},
   "outputs": [
    {
     "data": {
      "text/html": [
       "<div>\n",
       "<style scoped>\n",
       "    .dataframe tbody tr th:only-of-type {\n",
       "        vertical-align: middle;\n",
       "    }\n",
       "\n",
       "    .dataframe tbody tr th {\n",
       "        vertical-align: top;\n",
       "    }\n",
       "\n",
       "    .dataframe thead th {\n",
       "        text-align: right;\n",
       "    }\n",
       "</style>\n",
       "<table border=\"1\" class=\"dataframe\">\n",
       "  <thead>\n",
       "    <tr style=\"text-align: right;\">\n",
       "      <th></th>\n",
       "      <th>Name</th>\n",
       "      <th>Recipe Source</th>\n",
       "      <th>Ingredients</th>\n",
       "    </tr>\n",
       "  </thead>\n",
       "  <tbody>\n",
       "    <tr>\n",
       "      <th>0</th>\n",
       "      <td>Wood Fence</td>\n",
       "      <td>Starter</td>\n",
       "      <td>{'Wood': 2}</td>\n",
       "    </tr>\n",
       "    <tr>\n",
       "      <th>1</th>\n",
       "      <td>Stone Fence</td>\n",
       "      <td>Farming (Level 2)</td>\n",
       "      <td>{'Stone': 2}</td>\n",
       "    </tr>\n",
       "    <tr>\n",
       "      <th>2</th>\n",
       "      <td>Iron Fence</td>\n",
       "      <td>Farming (Level 4)</td>\n",
       "      <td>{'Iron Bar': 1}</td>\n",
       "    </tr>\n",
       "    <tr>\n",
       "      <th>3</th>\n",
       "      <td>Hardwood Fence</td>\n",
       "      <td>Farming (Level 6)</td>\n",
       "      <td>{'Hardwood': 1}</td>\n",
       "    </tr>\n",
       "    <tr>\n",
       "      <th>4</th>\n",
       "      <td>Grass Starter</td>\n",
       "      <td>Pierre's for 1,000g</td>\n",
       "      <td>{'Fiber': 10}</td>\n",
       "    </tr>\n",
       "    <tr>\n",
       "      <th>...</th>\n",
       "      <td>...</td>\n",
       "      <td>...</td>\n",
       "      <td>...</td>\n",
       "    </tr>\n",
       "    <tr>\n",
       "      <th>125</th>\n",
       "      <td>Thorns Ring</td>\n",
       "      <td>Robin (Special Order)</td>\n",
       "      <td>{'Stone': 50}</td>\n",
       "    </tr>\n",
       "    <tr>\n",
       "      <th>126</th>\n",
       "      <td>Glowstone Ring</td>\n",
       "      <td>Robin (Special Order)</td>\n",
       "      <td>{'Stone': 50}</td>\n",
       "    </tr>\n",
       "    <tr>\n",
       "      <th>127</th>\n",
       "      <td>Heavy Tapper</td>\n",
       "      <td>Robin (Special Order)</td>\n",
       "      <td>{'Stone': 50}</td>\n",
       "    </tr>\n",
       "    <tr>\n",
       "      <th>128</th>\n",
       "      <td>Hopper</td>\n",
       "      <td>Robin (Special Order)</td>\n",
       "      <td>{'Stone': 50}</td>\n",
       "    </tr>\n",
       "    <tr>\n",
       "      <th>129</th>\n",
       "      <td>Magic Bait</td>\n",
       "      <td>Robin (Special Order)</td>\n",
       "      <td>{'Stone': 50}</td>\n",
       "    </tr>\n",
       "  </tbody>\n",
       "</table>\n",
       "<p>130 rows × 3 columns</p>\n",
       "</div>"
      ],
      "text/plain": [
       "               Name          Recipe Source      Ingredients\n",
       "0        Wood Fence                Starter      {'Wood': 2}\n",
       "1       Stone Fence      Farming (Level 2)     {'Stone': 2}\n",
       "2        Iron Fence      Farming (Level 4)  {'Iron Bar': 1}\n",
       "3    Hardwood Fence      Farming (Level 6)  {'Hardwood': 1}\n",
       "4     Grass Starter    Pierre's for 1,000g    {'Fiber': 10}\n",
       "..              ...                    ...              ...\n",
       "125     Thorns Ring  Robin (Special Order)    {'Stone': 50}\n",
       "126  Glowstone Ring  Robin (Special Order)    {'Stone': 50}\n",
       "127    Heavy Tapper  Robin (Special Order)    {'Stone': 50}\n",
       "128          Hopper  Robin (Special Order)    {'Stone': 50}\n",
       "129      Magic Bait  Robin (Special Order)    {'Stone': 50}\n",
       "\n",
       "[130 rows x 3 columns]"
      ]
     },
     "execution_count": 210,
     "metadata": {},
     "output_type": "execute_result"
    }
   ],
   "source": [
    "first_df = pd.DataFrame(columns = ['Name', 'Recipe Source', 'Ingredients'])\n",
    "for i in tables:\n",
    "    for k in i.find_all('td'):\n",
    "        if len(k) == 2:\n",
    "            link = k.find('a')['href']\n",
    "            new_url = url.format(link)\n",
    "            response = requests.get(new_url)\n",
    "            page = bs4.BeautifulSoup(response.content)\n",
    "            name = page.find('h1').text.strip()\n",
    "            table = page.find_all('tbody')[0]\n",
    "            for j in table.find_all('tr'):\n",
    "                category = j.find('td').text.strip()\n",
    "                if category == 'Recipe Source:':\n",
    "                    recipe_source = j.find_all('td')[1].text.strip()\n",
    "                if category == 'Ingredients:':\n",
    "                    ingredients = {}\n",
    "                    for p in j.find_all('td')[1].find_all('span'):\n",
    "                        lst = p.text.strip().split('\\xa0')\n",
    "                        lst[1] = int(lst[1].strip('()'))\n",
    "                        ingredients[lst[0]] = lst[1]\n",
    "                else:\n",
    "                    continue\n",
    "        \n",
    "            result_dict = {'Name': name, 'Recipe Source': recipe_source, 'Ingredients': ingredients}\n",
    "            first_df = first_df.append(result_dict, ignore_index=True)\n",
    "        else:\n",
    "            continue\n",
    "        \n",
    "first_df"
   ]
  },
  {
   "cell_type": "code",
   "execution_count": 212,
   "metadata": {},
   "outputs": [
    {
     "data": {
      "text/plain": [
       "0          {'Wood': 2}\n",
       "1         {'Stone': 2}\n",
       "2      {'Iron Bar': 1}\n",
       "3      {'Hardwood': 1}\n",
       "4        {'Fiber': 10}\n",
       "            ...       \n",
       "125      {'Stone': 50}\n",
       "126      {'Stone': 50}\n",
       "127      {'Stone': 50}\n",
       "128      {'Stone': 50}\n",
       "129      {'Stone': 50}\n",
       "Name: Ingredients, Length: 130, dtype: object"
      ]
     },
     "execution_count": 212,
     "metadata": {},
     "output_type": "execute_result"
    }
   ],
   "source": [
    "first_df['Ingredients']"
   ]
  },
  {
   "cell_type": "code",
   "execution_count": 199,
   "metadata": {},
   "outputs": [
    {
     "name": "stdout",
     "output_type": "stream",
     "text": [
      "Pierre's for 1,000g\n"
     ]
    },
    {
     "data": {
      "text/plain": [
       "{'Fiber': 10}"
      ]
     },
     "execution_count": 199,
     "metadata": {},
     "output_type": "execute_result"
    }
   ],
   "source": [
    "table = page.find_all('tbody')[0]\n",
    "for i in table.find_all('tr'):\n",
    "    category = i.find('td').text.strip()\n",
    "    if category == 'Recipe Source:':\n",
    "        print(i.find_all('td')[1].text.strip())\n",
    "    if category == 'Ingredients:':\n",
    "        ingredients = {}\n",
    "        for j in i.find_all('td')[1].find_all('span'):\n",
    "            lst = j.text.strip().split('\\xa0')\n",
    "            lst[1] = int(lst[1].strip('()'))\n",
    "            ingredients[lst[0]] = lst[1]\n",
    "    else:\n",
    "        continue\n",
    "            \n",
    "            \n",
    "            \n",
    "ingredients"
   ]
  },
  {
   "cell_type": "code",
   "execution_count": 178,
   "metadata": {},
   "outputs": [
    {
     "data": {
      "text/plain": [
       "[<td colspan=\"2\" id=\"infoboxdetail\" style=\"text-align: center; font-style: italic;\">Place this on your farm to start a new patch of grass.\n",
       " </td>,\n",
       " <td id=\"infoboxdetail\"><a href=\"/Grass\" title=\"Grass\">Grass</a>\n",
       " </td>,\n",
       " <td id=\"infoboxdetail\">N/A\n",
       " </td>,\n",
       " <td id=\"infoboxdetail\">\n",
       " <p><span style=\"display:inline; margin-right:0; white-space: nowrap\"><a href=\"/Spring\" title=\"Spring\"><img alt=\"\" decoding=\"async\" height=\"16\" src=\"/mediawiki/images/thumb/9/9c/Spring.png/24px-Spring.png\" srcset=\"/mediawiki/images/thumb/9/9c/Spring.png/36px-Spring.png 1.5x, /mediawiki/images/9/9c/Spring.png 2x\" width=\"24\"/></a> <a href=\"/Spring\" title=\"Spring\">Spring</a></span> • <span style=\"display:inline; margin-right:0; white-space: nowrap\"><a href=\"/Summer\" title=\"Summer\"><img alt=\"\" decoding=\"async\" height=\"16\" src=\"/mediawiki/images/thumb/8/85/Summer.png/24px-Summer.png\" srcset=\"/mediawiki/images/thumb/8/85/Summer.png/36px-Summer.png 1.5x, /mediawiki/images/8/85/Summer.png 2x\" width=\"24\"/></a> <a href=\"/Summer\" title=\"Summer\">Summer</a></span> • <span style=\"display:inline; margin-right:0; white-space: nowrap\"><a href=\"/Fall\" title=\"Fall\"><img alt=\"\" decoding=\"async\" height=\"16\" src=\"/mediawiki/images/thumb/5/5d/Fall.png/24px-Fall.png\" srcset=\"/mediawiki/images/thumb/5/5d/Fall.png/36px-Fall.png 1.5x, /mediawiki/images/5/5d/Fall.png 2x\" width=\"24\"/></a> <a href=\"/Fall\" title=\"Fall\">Fall</a></span>\n",
       " </p>\n",
       " </td>,\n",
       " <td id=\"infoboxdetail\"><span class=\"no-wrap\" data-sort-value=\"50\"><img alt=\"Gold.png\" decoding=\"async\" height=\"18\" src=\"/mediawiki/images/thumb/1/10/Gold.png/18px-Gold.png\" srcset=\"/mediawiki/images/thumb/1/10/Gold.png/27px-Gold.png 1.5x, /mediawiki/images/thumb/1/10/Gold.png/36px-Gold.png 2x\" width=\"18\"/>50g</span>\n",
       " </td>,\n",
       " <td id=\"infoboxdetail\"><span class=\"no-wrap\" data-sort-value=\"100\"><img alt=\"Gold.png\" decoding=\"async\" height=\"18\" src=\"/mediawiki/images/thumb/1/10/Gold.png/18px-Gold.png\" srcset=\"/mediawiki/images/thumb/1/10/Gold.png/27px-Gold.png 1.5x, /mediawiki/images/thumb/1/10/Gold.png/36px-Gold.png 2x\" width=\"18\"/>100g</span>\n",
       " </td>,\n",
       " <td id=\"infoboxdetail\"><span class=\"no-wrap\" data-sort-value=\"125\"><img alt=\"Gold.png\" decoding=\"async\" height=\"18\" src=\"/mediawiki/images/thumb/1/10/Gold.png/18px-Gold.png\" srcset=\"/mediawiki/images/thumb/1/10/Gold.png/27px-Gold.png 1.5x, /mediawiki/images/thumb/1/10/Gold.png/36px-Gold.png 2x\" width=\"18\"/>125g</span>\n",
       " </td>,\n",
       " <td id=\"infoboxdetail\">Not Sold\n",
       " </td>,\n",
       " <td id=\"infoboxdetail\"><span id=\"nametemplate\"><img alt=\"Fiber.png\" decoding=\"async\" height=\"24\" src=\"/mediawiki/images/thumb/4/45/Fiber.png/24px-Fiber.png\" srcset=\"/mediawiki/images/thumb/4/45/Fiber.png/36px-Fiber.png 1.5x, /mediawiki/images/4/45/Fiber.png 2x\" width=\"24\"/> <a href=\"/Fiber\" title=\"Fiber\">Fiber</a> (10)</span>\n",
       " </td>,\n",
       " <td id=\"infoboxdetail\">1 Grass Starter per craft\n",
       " </td>]"
      ]
     },
     "execution_count": 178,
     "metadata": {},
     "output_type": "execute_result"
    }
   ],
   "source": [
    "page.find_all('td', attrs={'id': 'infoboxdetail'})"
   ]
  },
  {
   "cell_type": "code",
   "execution_count": null,
   "metadata": {},
   "outputs": [],
   "source": []
  },
  {
   "cell_type": "code",
   "execution_count": null,
   "metadata": {},
   "outputs": [],
   "source": []
  }
 ],
 "metadata": {
  "kernelspec": {
   "display_name": "Python 3",
   "language": "python",
   "name": "python3"
  },
  "language_info": {
   "codemirror_mode": {
    "name": "ipython",
    "version": 3
   },
   "file_extension": ".py",
   "mimetype": "text/x-python",
   "name": "python",
   "nbconvert_exporter": "python",
   "pygments_lexer": "ipython3",
   "version": "3.8.5"
  }
 },
 "nbformat": 4,
 "nbformat_minor": 4
}
