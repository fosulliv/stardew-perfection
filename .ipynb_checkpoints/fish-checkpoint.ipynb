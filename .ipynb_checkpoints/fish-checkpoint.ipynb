{
 "cells": [
  {
   "cell_type": "code",
   "execution_count": 354,
   "metadata": {},
   "outputs": [],
   "source": [
    "import requests\n",
    "import json\n",
    "import pandas as pd\n",
    "import numpy as np\n",
    "import bs4\n",
    "import glob\n",
    "import os\n",
    "import time\n",
    "import re"
   ]
  },
  {
   "cell_type": "code",
   "execution_count": 355,
   "metadata": {},
   "outputs": [],
   "source": [
    "response = requests.get('https://stardewvalleywiki.com/Stardew_Valley_Wiki').content"
   ]
  },
  {
   "cell_type": "code",
   "execution_count": 356,
   "metadata": {},
   "outputs": [],
   "source": [
    "soup = bs4.BeautifulSoup(response)\n",
    "fish = bs4.BeautifulSoup(requests.get('https://stardewvalleywiki.com/Fish').content)"
   ]
  },
  {
   "cell_type": "code",
   "execution_count": 357,
   "metadata": {},
   "outputs": [],
   "source": [
    "table = fish.find('tbody')\n",
    "rows1 = table.find_all('tr')"
   ]
  },
  {
   "cell_type": "code",
   "execution_count": 396,
   "metadata": {},
   "outputs": [],
   "source": [
    "def extract_fish(num, rows):\n",
    "    fish_df = pd.DataFrame(columns=['Name', 'Location', 'Time', 'Season', 'Weather', 'Used In'])\n",
    "    for i in range(num, len(rows), 13):\n",
    "        row = rows[i]\n",
    "        atts = row.find_all('td')\n",
    "        name = atts[1].text.strip()\n",
    "        location = atts[30].text.strip()\n",
    "        time = atts[31].text.strip()\n",
    "        season = atts[32].text.strip().split('\\xa0')\n",
    "        weather = atts[33].text.strip()\n",
    "        if 37 >= len(atts):\n",
    "            used_in = []\n",
    "        else:\n",
    "            spans = atts[37].find_all('span')\n",
    "            ps = atts[37].find_all('p')\n",
    "            used_in = []\n",
    "            for i in spans:\n",
    "                used_in.append(i.text.strip())\n",
    "            for j in ps:\n",
    "                used_in.append(j.text.strip().replace('\\xa0', ' '))\n",
    "        df_dict = {'Name': name, 'Location': location, 'Time': time, 'Season': season, 'Weather': weather, 'Used In': used_in}\n",
    "        fish_df = fish_df.append(df_dict, ignore_index=True)\n",
    "    return fish_df\n",
    "\n",
    "\n",
    "first_fish = extract_fish(1, rows1)"
   ]
  },
  {
   "cell_type": "code",
   "execution_count": 382,
   "metadata": {},
   "outputs": [
    {
     "data": {
      "text/html": [
       "<div>\n",
       "<style scoped>\n",
       "    .dataframe tbody tr th:only-of-type {\n",
       "        vertical-align: middle;\n",
       "    }\n",
       "\n",
       "    .dataframe tbody tr th {\n",
       "        vertical-align: top;\n",
       "    }\n",
       "\n",
       "    .dataframe thead th {\n",
       "        text-align: right;\n",
       "    }\n",
       "</style>\n",
       "<table border=\"1\" class=\"dataframe\">\n",
       "  <thead>\n",
       "    <tr style=\"text-align: right;\">\n",
       "      <th></th>\n",
       "      <th>Name</th>\n",
       "      <th>Location</th>\n",
       "      <th>Time</th>\n",
       "      <th>Season</th>\n",
       "      <th>Weather</th>\n",
       "      <th>Used In</th>\n",
       "    </tr>\n",
       "  </thead>\n",
       "  <tbody>\n",
       "    <tr>\n",
       "      <th>0</th>\n",
       "      <td>Midnight Squid</td>\n",
       "      <td>Night Market Submarine</td>\n",
       "      <td>5pm - 2am</td>\n",
       "      <td>Winter 15th - Winter 17th</td>\n",
       "      <td>Any</td>\n",
       "      <td>[]</td>\n",
       "    </tr>\n",
       "    <tr>\n",
       "      <th>1</th>\n",
       "      <td>Spook Fish</td>\n",
       "      <td>Night Market Submarine</td>\n",
       "      <td>5pm - 2am</td>\n",
       "      <td>Winter 15th - Winter 17th</td>\n",
       "      <td>Any</td>\n",
       "      <td>[]</td>\n",
       "    </tr>\n",
       "    <tr>\n",
       "      <th>2</th>\n",
       "      <td>Blobfish</td>\n",
       "      <td>Night Market Submarine</td>\n",
       "      <td>5pm - 2am</td>\n",
       "      <td>Winter 15th - Winter 17th</td>\n",
       "      <td>Any</td>\n",
       "      <td>[]</td>\n",
       "    </tr>\n",
       "  </tbody>\n",
       "</table>\n",
       "</div>"
      ],
      "text/plain": [
       "             Name                Location       Time  \\\n",
       "0  Midnight Squid  Night Market Submarine  5pm - 2am   \n",
       "1      Spook Fish  Night Market Submarine  5pm - 2am   \n",
       "2        Blobfish  Night Market Submarine  5pm - 2am   \n",
       "\n",
       "                      Season Weather Used In  \n",
       "0  Winter 15th - Winter 17th     Any      []  \n",
       "1  Winter 15th - Winter 17th     Any      []  \n",
       "2  Winter 15th - Winter 17th     Any      []  "
      ]
     },
     "execution_count": 382,
     "metadata": {},
     "output_type": "execute_result"
    }
   ],
   "source": [
    "second_fish = pd.DataFrame(columns=['Name', 'Location', 'Time', 'Season', 'Weather', 'Used In'])\n",
    "for i in range(1, len(rows2), 13):\n",
    "    row = rows2[i]\n",
    "    atts = row.find_all('td')\n",
    "    name = atts[1].text.strip()\n",
    "    location = 'Night Market Submarine'\n",
    "    time = '5pm - 2am'\n",
    "    season = 'Winter 15th - Winter 17th'\n",
    "    weather = 'Any'\n",
    "    used_in = []\n",
    "    df_dict = {'Name': name, 'Location': location, 'Time': time, 'Season': season, 'Weather': weather, 'Used In': used_in}\n",
    "    second_fish = second_fish.append(df_dict, ignore_index=True)\n",
    "    \n",
    "second_fish"
   ]
  },
  {
   "cell_type": "code",
   "execution_count": 383,
   "metadata": {},
   "outputs": [
    {
     "data": {
      "text/html": [
       "<div>\n",
       "<style scoped>\n",
       "    .dataframe tbody tr th:only-of-type {\n",
       "        vertical-align: middle;\n",
       "    }\n",
       "\n",
       "    .dataframe tbody tr th {\n",
       "        vertical-align: top;\n",
       "    }\n",
       "\n",
       "    .dataframe thead th {\n",
       "        text-align: right;\n",
       "    }\n",
       "</style>\n",
       "<table border=\"1\" class=\"dataframe\">\n",
       "  <thead>\n",
       "    <tr style=\"text-align: right;\">\n",
       "      <th></th>\n",
       "      <th>Name</th>\n",
       "      <th>Location</th>\n",
       "      <th>Time</th>\n",
       "      <th>Season</th>\n",
       "      <th>Weather</th>\n",
       "      <th>Used In</th>\n",
       "    </tr>\n",
       "  </thead>\n",
       "  <tbody>\n",
       "    <tr>\n",
       "      <th>0</th>\n",
       "      <td>Crimsonfish</td>\n",
       "      <td>East Pier on The Beach. Requires level 5 fishing.</td>\n",
       "      <td>Any</td>\n",
       "      <td>[Summer]</td>\n",
       "      <td>Any</td>\n",
       "      <td>[]</td>\n",
       "    </tr>\n",
       "    <tr>\n",
       "      <th>1</th>\n",
       "      <td>Angler</td>\n",
       "      <td>North of JojaMart on the wooden plank bridge. ...</td>\n",
       "      <td>Any</td>\n",
       "      <td>[Fall]</td>\n",
       "      <td>Any</td>\n",
       "      <td>[]</td>\n",
       "    </tr>\n",
       "    <tr>\n",
       "      <th>2</th>\n",
       "      <td>Legend</td>\n",
       "      <td>The Mountain Lake near the log. Requires level...</td>\n",
       "      <td>Any</td>\n",
       "      <td>[Spring]</td>\n",
       "      <td>Rain</td>\n",
       "      <td>[]</td>\n",
       "    </tr>\n",
       "    <tr>\n",
       "      <th>3</th>\n",
       "      <td>Glacierfish</td>\n",
       "      <td>South end of Arrowhead Island in Cindersap For...</td>\n",
       "      <td>Any</td>\n",
       "      <td>[Winter]</td>\n",
       "      <td>Any</td>\n",
       "      <td>[]</td>\n",
       "    </tr>\n",
       "    <tr>\n",
       "      <th>4</th>\n",
       "      <td>Mutant Carp</td>\n",
       "      <td>The Sewers</td>\n",
       "      <td>Any</td>\n",
       "      <td>[All Seasons]</td>\n",
       "      <td>Any</td>\n",
       "      <td>[]</td>\n",
       "    </tr>\n",
       "  </tbody>\n",
       "</table>\n",
       "</div>"
      ],
      "text/plain": [
       "          Name                                           Location Time  \\\n",
       "0  Crimsonfish  East Pier on The Beach. Requires level 5 fishing.  Any   \n",
       "1       Angler  North of JojaMart on the wooden plank bridge. ...  Any   \n",
       "2       Legend  The Mountain Lake near the log. Requires level...  Any   \n",
       "3  Glacierfish  South end of Arrowhead Island in Cindersap For...  Any   \n",
       "4  Mutant Carp                                         The Sewers  Any   \n",
       "\n",
       "          Season Weather Used In  \n",
       "0       [Summer]     Any      []  \n",
       "1         [Fall]     Any      []  \n",
       "2       [Spring]    Rain      []  \n",
       "3       [Winter]     Any      []  \n",
       "4  [All Seasons]     Any      []  "
      ]
     },
     "execution_count": 383,
     "metadata": {},
     "output_type": "execute_result"
    }
   ],
   "source": [
    "rows3 = fish.find_all('table', attrs={'class': 'wikitable sortable'})[2].find_all('tr')\n",
    "third_fish = extract_fish(1, rows3)\n",
    "third_fish"
   ]
  },
  {
   "cell_type": "code",
   "execution_count": 480,
   "metadata": {},
   "outputs": [],
   "source": [
    "rows4 = fish.find_all('table', attrs={'class': 'wikitable sortable'})[4].find_all('tr')\n",
    "atts = rows4[0].find_all('td')\n"
   ]
  },
  {
   "cell_type": "code",
   "execution_count": 469,
   "metadata": {},
   "outputs": [],
   "source": [
    "def extract_fish2(rows):\n",
    "    fish_df = pd.DataFrame(columns=['Name', 'Location', 'Time', 'Season', 'Weather', 'Used In'])\n",
    "    length = len(rows4)\n",
    "    for i in range(length):\n",
    "        "
   ]
  },
  {
   "cell_type": "code",
   "execution_count": null,
   "metadata": {},
   "outputs": [],
   "source": []
  },
  {
   "cell_type": "code",
   "execution_count": null,
   "metadata": {},
   "outputs": [],
   "source": []
  }
 ],
 "metadata": {
  "kernelspec": {
   "display_name": "Python 3",
   "language": "python",
   "name": "python3"
  },
  "language_info": {
   "codemirror_mode": {
    "name": "ipython",
    "version": 3
   },
   "file_extension": ".py",
   "mimetype": "text/x-python",
   "name": "python",
   "nbconvert_exporter": "python",
   "pygments_lexer": "ipython3",
   "version": "3.8.5"
  }
 },
 "nbformat": 4,
 "nbformat_minor": 4
}
